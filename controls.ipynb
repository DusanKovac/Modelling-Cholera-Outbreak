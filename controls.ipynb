{
 "cells": [
  {
   "cell_type": "markdown",
   "metadata": {},
   "source": [
    "### Control Mechanism #1"
   ]
  },
  {
   "cell_type": "markdown",
   "metadata": {},
   "source": [
    "According to https://www.cdc.gov/cholera/general/index.html, cholera can be contracted from the eating or drinking of matter contaminated by the feces of someone who is infected. I purpose we introduce control mechanism #1, hygienic disposal of feces, as follows:"
   ]
  },
  {
   "cell_type": "markdown",
   "metadata": {},
   "source": [
    "$S' = -\\beta S I + h I$\n",
    "\n",
    "$I' = \\beta SI - \\alpha I - h I$\n",
    "\n",
    "$R' = \\alpha I $"
   ]
  },
  {
   "cell_type": "markdown",
   "metadata": {},
   "source": [
    "where $h$ is a positive constant.\n",
    "\n",
    "Observe that the control mechanism does not depend on $S$, nor does it directly effect $S'$. The argument implied by this is that there is a linear relationship between the amount of (infected) feces in the system and the amount of susceptible people the feces will affect (that is, $x$ amount of contagious fecal matter will always infect $y$ amount of people, as long as there's at least $y$ susceptible people). Whether this assumption is reasonable is definitely up for debate."
   ]
  },
  {
   "cell_type": "markdown",
   "metadata": {},
   "source": [
    "### Control Mechanism #2"
   ]
  },
  {
   "cell_type": "markdown",
   "metadata": {},
   "source": [
    "From https://www.cdc.gov/cholera/treatment/rehydration-therapy.html#:~:text=Rehydration%20is%20the%20cornerstone%20of,under%201%25%20of%20all%20patients, we have that hydration is an extremely effective method for treating cholera. We have also seen, in the source referenced in the discussion of Control Mechanism #1, that water contaminated by the feces of those infected is a significant channel for the spread of cholera. For these reasons I purpose that we introduce control mechanism #2, adequate supply of safe drinking water, as follows:"
   ]
  },
  {
   "cell_type": "markdown",
   "metadata": {},
   "source": [
    "$S' = -\\beta S I$\n",
    "\n",
    "$I' = \\beta SI - w_1\\alpha I - w_2 I$\n",
    "\n",
    "$R' = w_1\\alpha I + w_2 I$"
   ]
  },
  {
   "cell_type": "markdown",
   "metadata": {},
   "source": [
    "where $w_1, w_2$ are positive constants and $w_1 > 1$.\n",
    "\n",
    "Here $w_1$ signifies the effect that adequate water supply will have on the rate at which people recover. By introducing $w_1$ as a coefficient to each term that contains $\\alpha$, the recovery rate, we are effectively increasing the recovery rate. This is equivalent to just updating the parameter $\\alpha$ and not bothering with the $w_1$ coefficient, but I believe that preserving the original model's value of $\\alpha$ makes both interpretation and comparison between control mechanisms easier. Since the recovery rate of the infected population will not directly affect the susceptible population, $w_1$ does not depend on $S$ and does not directly affect $S'$.\n",
    "\n",
    "With a better supply of clean drinking water, the number of people infected by consuming water contaminated with the feces of one who is infected will decreased. The term $-w_2I$ signifies this decrease and will have the same qualitative effect on our model as control mechanism #1.\n"
   ]
  },
  {
   "cell_type": "markdown",
   "metadata": {},
   "source": [
    "### Control Mechanism #3"
   ]
  },
  {
   "cell_type": "markdown",
   "metadata": {},
   "source": [
    "I argue that the influence of control mechanism #3, good food hygiene and cooking, is dependent upon both the number of infected people and the number of susceptible people in the population. Expressing this mathematically, we have:\n",
    "\n",
    "$S' = -\\beta S I + \\phi SI$\n",
    "\n",
    "$I' = \\beta SI - \\phi SI$\n",
    "\n",
    "$R' = \\alpha I$\n",
    "\n",
    "where $\\phi$ is a positive constant. \n",
    "\n",
    "It is highly likely, arguably inevitable, that some amount of the infected population will be involved in the process of cooking and food preparation. Thus, the more infected people present in the system, the larger the impact our control mechanism will be. It is for this reason that I believe that the effect of the control mechanism is dependent upon $I$.\n",
    "\n",
    "Consider the dissemination of food which is either fully or partly prepared by infected individuals. The measure of how widespread this dissemination is to susceptible individuals is, naturally, dependent upon the number of susceptible individuals there are in the population. Thus, I argue that the influence of good food hygiene and cooking on the model is depended upon $S$.\n"
   ]
  },
  {
   "cell_type": "markdown",
   "metadata": {},
   "source": [
    "### Control Mechanism #4"
   ]
  },
  {
   "cell_type": "markdown",
   "metadata": {},
   "source": [
    "I purpose that control mechanism #4 is dependent upon $S, I$ and $R$, and will be introduced into our model as follows:\n",
    "\n",
    "$S' = -\\beta S I + cSIR$\n",
    "\n",
    "$I' = \\beta SI - cSIR$\n",
    "\n",
    "$R' = \\alpha I$\n",
    "\n",
    "where $c$ is a positive constant.\n",
    "\n",
    "From https://www.panafrican-med-journal.com/content/article/30/5/full/, \"washing the hands with soap with either clean or dirty water is very effective in removing hand contamination and reduces the spread of infectious agents from person to person.\" So we have that washing hands will certainly help to curtail the spread of cholera. \n",
    "\n",
    "As we saw in the discussion of control mechanism #1, cholera can be contracted through exposure to fecal matter of an infected individual. Thus, if those who are infected practice hand washing after defecation, they will be less likely to infect the susceptible individuals they come in contact with. This is why I believe the control mechanism is dependent upon $I$.\n",
    "\n",
    "The frequency of contacts made between infected individuals and susceptible individuals will naturally grow with the number of susceptible individuals in the system. Since hand washing will reduce the number of new infections that result from these interactions, I purpose that the control is dependent upon $S$.\n",
    "\n",
    "Recovered individuals, while safe from infection, can still be vectors of infection. This could occur when a recovered individual comes into contact with an infected individual, and subsequently comes into contact with a susceptible individual. When diligent hand washing is practiced, infections spread in this way will be reduced.\n",
    "\n"
   ]
  },
  {
   "cell_type": "code",
   "execution_count": null,
   "metadata": {},
   "outputs": [],
   "source": []
  }
 ],
 "metadata": {
  "kernelspec": {
   "display_name": "Python 3",
   "language": "python",
   "name": "python3"
  },
  "language_info": {
   "codemirror_mode": {
    "name": "ipython",
    "version": 3
   },
   "file_extension": ".py",
   "mimetype": "text/x-python",
   "name": "python",
   "nbconvert_exporter": "python",
   "pygments_lexer": "ipython3",
   "version": "3.7.4"
  }
 },
 "nbformat": 4,
 "nbformat_minor": 2
}
