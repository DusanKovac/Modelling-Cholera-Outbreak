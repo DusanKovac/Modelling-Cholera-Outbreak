{
 "cells": [
  {
   "cell_type": "markdown",
   "metadata": {},
   "source": [
    "### Control Mechanism #1"
   ]
  },
  {
   "cell_type": "markdown",
   "metadata": {},
   "source": [
    "According to https://www.cdc.gov/cholera/general/index.html, Cholera can be contracted from the eating or drinking of matter contaminated by the feces of someone who is infected. I purpose we introduce control mechanism #1, hygienic disposal of feces, as follows:"
   ]
  },
  {
   "cell_type": "markdown",
   "metadata": {},
   "source": [
    "$S' = -\\beta S I$\n",
    "\n",
    "$I' = \\beta SI - \\alpha I - h I$\n",
    "\n",
    "$R' = \\alpha I + h I$"
   ]
  },
  {
   "cell_type": "markdown",
   "metadata": {},
   "source": [
    "where $h$ is a positive constant.\n",
    "\n",
    "Observe that the control mechanism does not depend on $S$, nor does it directly effect $S'$. The argument implied by this is that there is a linear relationship between the amount of (infected) feces in the system and the amount of susceptible people the feces will affect (that is, $x$ amount of contagious fecal matter will always infect $y$ amount of people, as long as there's at least $y$ susceptible people). Whether this assumption is reasonable is definitely up for debate.\n",
    ""
   ]
  },
  {
   "cell_type": "markdown",
   "metadata": {},
   "source": [
    "### Control Mechanism #2"
   ]
  },
  {
   "cell_type": "markdown",
   "metadata": {},
   "source": [
    "From https://www.cdc.gov/cholera/treatment/rehydration-therapy.html#:~:text=Rehydration%20is%20the%20cornerstone%20of,under%201%25%20of%20all%20patients, we have that hydration is an extremely effective method for treating Cholera. We have also seen, in the source referenced in the discussion of Control Mechanism #1, that water contaminated by the feces of those infected is a significant channel for the spread of cholera. For these reasons I purpose that we introduce control mechanism #2, adequate supply of safe drinking water, as follows:"
   ]
  },
  {
   "cell_type": "markdown",
   "metadata": {},
   "source": [
    "$S' = -\\beta S I$\n",
    "\n",
    "$I' = \\beta SI - w_1\\alpha I - w_2 I$\n",
    "\n",
    "$R' = w_1\\alpha I + w_2 I$"
   ]
  },
  {
   "cell_type": "markdown",
   "metadata": {},
   "source": [
    "where $w_1, w_2$ are positive constants and $w_1 > 1$.\n",
    "\n",
    "Here $w_1$ signifies the effect that adequate water supply will have on the rate at which people recover. By introducing $w_1$ as a coefficient to each term that contains $\\alpha$, the recovery rate, we are effectively increasing the recovery rate. This is equivalent to just updating the parameter $\\alpha$ and not bothering with the $w_1$ coefficient, but I believe that preserving the original model's value of $\\alpha$ makes both interpretation and comparison between control mechanisms easier. Since the recovery rate of the infected population will not directly affect the susceptible population, $w_1$ does not depend on $S$ and does not directly affect $S'$.\n",
    "\n",
    "With a better supply of clean drinking water, the number of people infected by consuming water contaminated with the feces of one who is infected will decreased. The term $-w_2I$ signifies this decrease and will have the same qualitative effect on our model as control mechanism #1.\n"
   ]
  },
  {
   "cell_type": "code",
   "execution_count": null,
   "metadata": {},
   "outputs": [],
   "source": []
  }
 ],
 "metadata": {
  "kernelspec": {
   "display_name": "Python 3",
   "language": "python",
   "name": "python3"
  },
  "language_info": {
   "codemirror_mode": {
    "name": "ipython",
    "version": 3
   },
   "file_extension": ".py",
   "mimetype": "text/x-python",
   "name": "python",
   "nbconvert_exporter": "python",
   "pygments_lexer": "ipython3",
   "version": "3.7.4"
  }
 },
 "nbformat": 4,
 "nbformat_minor": 2
}
